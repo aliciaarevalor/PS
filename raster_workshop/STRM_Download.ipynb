{
 "cells": [
  {
   "cell_type": "markdown",
   "id": "b556fef5",
   "metadata": {},
   "source": [
    "# Downloading SRTM DEM from Google Earth Engine"
   ]
  },
  {
   "cell_type": "markdown",
   "id": "bca0feac",
   "metadata": {},
   "source": [
    "## 1. Setting the scene  \n",
    "\n",
    "### 1.1. Import required libraries"
   ]
  },
  {
   "cell_type": "code",
   "execution_count": 11,
   "id": "2d833e32",
   "metadata": {},
   "outputs": [
    {
     "data": {
      "text/html": [
       "\n",
       "            <style>\n",
       "                .geemap-dark {\n",
       "                    --jp-widgets-color: white;\n",
       "                    --jp-widgets-label-color: white;\n",
       "                    --jp-ui-font-color1: white;\n",
       "                    --jp-layout-color2: #454545;\n",
       "                    background-color: #383838;\n",
       "                }\n",
       "\n",
       "                .geemap-dark .jupyter-button {\n",
       "                    --jp-layout-color3: #383838;\n",
       "                }\n",
       "\n",
       "                .geemap-colab {\n",
       "                    background-color: var(--colab-primary-surface-color, white);\n",
       "                }\n",
       "\n",
       "                .geemap-colab .jupyter-button {\n",
       "                    --jp-layout-color3: var(--colab-primary-surface-color, white);\n",
       "                }\n",
       "            </style>\n",
       "            "
      ],
      "text/plain": [
       "<IPython.core.display.HTML object>"
      ]
     },
     "metadata": {},
     "output_type": "display_data"
    }
   ],
   "source": [
    "import ee                     # Earth Engine Python AP: provides access to Google's geospatial datasets and analysis capabilities\n",
    "import geemap                 # simplifies interaction with Earth Engine and allows exporting of raster images\n",
    "import geopandas as gpd       # used to handle shapefiles and other vector spatial data in Python\n",
    "import numpy as np\n",
    "import rasterio\n",
    "import rasterio.plot\n",
    "import matplotlib.pyplot as plt  # Library for creating visualisations"
   ]
  },
  {
   "cell_type": "markdown",
   "id": "ec10f344",
   "metadata": {},
   "source": [
    "### 1.2.Define paths to datasets"
   ]
  },
  {
   "cell_type": "code",
   "execution_count": 12,
   "id": "7f42d8e8",
   "metadata": {},
   "outputs": [
    {
     "data": {
      "text/html": [
       "\n",
       "            <style>\n",
       "                .geemap-dark {\n",
       "                    --jp-widgets-color: white;\n",
       "                    --jp-widgets-label-color: white;\n",
       "                    --jp-ui-font-color1: white;\n",
       "                    --jp-layout-color2: #454545;\n",
       "                    background-color: #383838;\n",
       "                }\n",
       "\n",
       "                .geemap-dark .jupyter-button {\n",
       "                    --jp-layout-color3: #383838;\n",
       "                }\n",
       "\n",
       "                .geemap-colab {\n",
       "                    background-color: var(--colab-primary-surface-color, white);\n",
       "                }\n",
       "\n",
       "                .geemap-colab .jupyter-button {\n",
       "                    --jp-layout-color3: var(--colab-primary-surface-color, white);\n",
       "                }\n",
       "            </style>\n",
       "            "
      ],
      "text/plain": [
       "<IPython.core.display.HTML object>"
      ]
     },
     "metadata": {},
     "output_type": "display_data"
    }
   ],
   "source": [
    "m_root=r\"C:/Users/VICTUS/Documents/MG(2)/programacion_sig/notebook/Workshop/PS/data\"\n",
    "aoi=m_root+r\"/aoi.gpkg\" # Path to the vector file that contains the AOI\n",
    "dem_path=m_root+\"/dem_aoi.tif\" # Path where the downloaded DEM will be stored"
   ]
  },
  {
   "cell_type": "markdown",
   "id": "dc128374",
   "metadata": {},
   "source": [
    "## 2. Authentication and Connection to Google Earth Engine  \n",
    "\n",
    "### 2.1: Authenticate with Google Earth Engine  \n",
    "\n",
    "This step authorises access to your Google Earth Engine account from this environment.\n",
    "A link will be generated; please sign in with your Google account and copy the verification code provided.\n",
    "\n",
    "Note: This step is only required the first time you use Earth Engine in a new environment or after resetting credentials. Once authenticated, the credentials will be saved and reused automatically in subsequent sessions."
   ]
  },
  {
   "cell_type": "code",
   "execution_count": 13,
   "id": "ffdf6f8a",
   "metadata": {},
   "outputs": [
    {
     "data": {
      "text/html": [
       "\n",
       "            <style>\n",
       "                .geemap-dark {\n",
       "                    --jp-widgets-color: white;\n",
       "                    --jp-widgets-label-color: white;\n",
       "                    --jp-ui-font-color1: white;\n",
       "                    --jp-layout-color2: #454545;\n",
       "                    background-color: #383838;\n",
       "                }\n",
       "\n",
       "                .geemap-dark .jupyter-button {\n",
       "                    --jp-layout-color3: #383838;\n",
       "                }\n",
       "\n",
       "                .geemap-colab {\n",
       "                    background-color: var(--colab-primary-surface-color, white);\n",
       "                }\n",
       "\n",
       "                .geemap-colab .jupyter-button {\n",
       "                    --jp-layout-color3: var(--colab-primary-surface-color, white);\n",
       "                }\n",
       "            </style>\n",
       "            "
      ],
      "text/plain": [
       "<IPython.core.display.HTML object>"
      ]
     },
     "metadata": {},
     "output_type": "display_data"
    },
    {
     "data": {
      "text/plain": [
       "True"
      ]
     },
     "execution_count": 13,
     "metadata": {},
     "output_type": "execute_result"
    }
   ],
   "source": [
    "ee.Authenticate()"
   ]
  },
  {
   "cell_type": "markdown",
   "id": "844c9a32",
   "metadata": {},
   "source": [
    "### 2.2. Initialise the Earth Engine Library  \n",
    "\n",
    "Once authenticated, you must initialise the Earth Engine API to enable access to its functions in this notebook."
   ]
  },
  {
   "cell_type": "code",
   "execution_count": 14,
   "id": "e7b31a41",
   "metadata": {},
   "outputs": [
    {
     "data": {
      "text/html": [
       "\n",
       "            <style>\n",
       "                .geemap-dark {\n",
       "                    --jp-widgets-color: white;\n",
       "                    --jp-widgets-label-color: white;\n",
       "                    --jp-ui-font-color1: white;\n",
       "                    --jp-layout-color2: #454545;\n",
       "                    background-color: #383838;\n",
       "                }\n",
       "\n",
       "                .geemap-dark .jupyter-button {\n",
       "                    --jp-layout-color3: #383838;\n",
       "                }\n",
       "\n",
       "                .geemap-colab {\n",
       "                    background-color: var(--colab-primary-surface-color, white);\n",
       "                }\n",
       "\n",
       "                .geemap-colab .jupyter-button {\n",
       "                    --jp-layout-color3: var(--colab-primary-surface-color, white);\n",
       "                }\n",
       "            </style>\n",
       "            "
      ],
      "text/plain": [
       "<IPython.core.display.HTML object>"
      ]
     },
     "metadata": {},
     "output_type": "display_data"
    }
   ],
   "source": [
    "ee.Initialize()"
   ]
  },
  {
   "cell_type": "markdown",
   "id": "fcbae81d",
   "metadata": {},
   "source": [
    "## 3. Prepare and Download the SRTM DEM for Your Area of Interest  \n",
    "\n",
    "### 3.1. Prepare and visualise the DEM  \n",
    "\n",
    "We will load a shapefile representing the study area and convert its geometry into a format compatible with Earth Engine.  \n",
    "\n",
    "We then use this geometry to clip the SRTM Digital Elevation Model (DEM), provided by the USGS at 30 m resolution, so that the dataset only covers the area of interest."
   ]
  },
  {
   "cell_type": "code",
   "execution_count": 15,
   "id": "24dde312",
   "metadata": {},
   "outputs": [
    {
     "data": {
      "text/html": [
       "\n",
       "            <style>\n",
       "                .geemap-dark {\n",
       "                    --jp-widgets-color: white;\n",
       "                    --jp-widgets-label-color: white;\n",
       "                    --jp-ui-font-color1: white;\n",
       "                    --jp-layout-color2: #454545;\n",
       "                    background-color: #383838;\n",
       "                }\n",
       "\n",
       "                .geemap-dark .jupyter-button {\n",
       "                    --jp-layout-color3: #383838;\n",
       "                }\n",
       "\n",
       "                .geemap-colab {\n",
       "                    background-color: var(--colab-primary-surface-color, white);\n",
       "                }\n",
       "\n",
       "                .geemap-colab .jupyter-button {\n",
       "                    --jp-layout-color3: var(--colab-primary-surface-color, white);\n",
       "                }\n",
       "            </style>\n",
       "            "
      ],
      "text/plain": [
       "<IPython.core.display.HTML object>"
      ]
     },
     "metadata": {},
     "output_type": "display_data"
    },
    {
     "name": "stdout",
     "output_type": "stream",
     "text": [
      "EPSG:4326\n"
     ]
    }
   ],
   "source": [
    "# Read the shapefile containing the extent of the study area\n",
    "gdf_aoi = gpd.read_file(aoi)\n",
    "print(gdf_aoi.crs)\n",
    "\n",
    "#--- Convert the AOI geometry to Earth Engine format ---\n",
    "\n",
    "aoi_geom = gdf_aoi.geometry[0]                    # Extract the polygon geometry\n",
    "aoi_coords = aoi_geom.__geo_interface__       # Convert to GeoJSON format\n",
    "aoi_ee = ee.Geometry(aoi_coords)              # Convert to Earth Engine Geometry\n",
    "\n",
    "# --  Load the DEM and clip it to the AOI ---\n",
    "\n",
    "# Use the SRTM DEM (30m resolution) provided by the USGS\n",
    "dem = ee.Image(\"USGS/SRTMGL1_003\")\n",
    "\n",
    "# Clip the DEM to the area of interest\n",
    "dem_clipped = dem.clip(aoi_ee)\n",
    "\n"
   ]
  },
  {
   "cell_type": "markdown",
   "id": "0c84994c",
   "metadata": {},
   "source": [
    "## 4. Visualise the Clipped DEM on an Interactive Map  \n",
    "\n",
    "This step uses geemap to display the DEM overlaid on an interactive map, with a colour palette representing elevation values."
   ]
  },
  {
   "cell_type": "code",
   "execution_count": 16,
   "id": "af97acdf",
   "metadata": {},
   "outputs": [
    {
     "data": {
      "text/html": [
       "\n",
       "            <style>\n",
       "                .geemap-dark {\n",
       "                    --jp-widgets-color: white;\n",
       "                    --jp-widgets-label-color: white;\n",
       "                    --jp-ui-font-color1: white;\n",
       "                    --jp-layout-color2: #454545;\n",
       "                    background-color: #383838;\n",
       "                }\n",
       "\n",
       "                .geemap-dark .jupyter-button {\n",
       "                    --jp-layout-color3: #383838;\n",
       "                }\n",
       "\n",
       "                .geemap-colab {\n",
       "                    background-color: var(--colab-primary-surface-color, white);\n",
       "                }\n",
       "\n",
       "                .geemap-colab .jupyter-button {\n",
       "                    --jp-layout-color3: var(--colab-primary-surface-color, white);\n",
       "                }\n",
       "            </style>\n",
       "            "
      ],
      "text/plain": [
       "<IPython.core.display.HTML object>"
      ]
     },
     "metadata": {},
     "output_type": "display_data"
    },
    {
     "data": {
      "application/vnd.jupyter.widget-view+json": {
       "model_id": "5f07adcce7f541fdb75091539cfb1255",
       "version_major": 2,
       "version_minor": 0
      },
      "text/plain": [
       "Map(center=[4.831080121156068, -73.16777407883282], controls=(WidgetControl(options=['position', 'transparent_…"
      ]
     },
     "metadata": {},
     "output_type": "display_data"
    }
   ],
   "source": [
    "# Create an interactive map centred on the centroid of the AOI\n",
    "Map = geemap.Map(center=[aoi_geom.centroid.y, aoi_geom.centroid.x], zoom=13)\n",
    "\n",
    "# Add the clipped DEM to the map with a custom colour palette\n",
    "# Lower elevations are shown in red, and higher elevations in green\n",
    "Map.addLayer(\n",
    "    dem_clipped,\n",
    "    {\n",
    "        'min': 200,  # Minimum elevation for visualisation\n",
    "        'max': 1000,  # Maximum elevation for visualisation\n",
    "        'palette': ['red', 'orange', 'yellow', 'lightgreen', 'green']  # Colour scale\n",
    "    },\n",
    "    'SRTM DEM clipped'  # Layer name\n",
    ")\n",
    "\n",
    "# Display the map\n",
    "Map"
   ]
  },
  {
   "cell_type": "markdown",
   "id": "8c079922",
   "metadata": {},
   "source": [
    "### 🎯 Now it’s your turn  \n",
    "\n",
    "Try modifying the parameters of the interactive map to explore a different area:  \n",
    "\n",
    "- Replace the current shapefile with one representing another region of interest.  \n",
    "- Adjust the zoom level and map centre accordingly.  \n",
    "- Update the visualisation range (min and max) to better reflect the elevation characteristics of your new area.  \n",
    "- Experiment with different colour palettes to emphasise various elevation gradients.\n",
    "\n",
    "*Tip*: You can find alternative colour palettes on ColorBrewer or create your own.  \n",
    "\n",
    "Once updated, re-run the map cell to check how the visualisation changes with your new parameters."
   ]
  },
  {
   "cell_type": "code",
   "execution_count": 17,
   "id": "2afaf2d3",
   "metadata": {},
   "outputs": [
    {
     "data": {
      "text/html": [
       "\n",
       "            <style>\n",
       "                .geemap-dark {\n",
       "                    --jp-widgets-color: white;\n",
       "                    --jp-widgets-label-color: white;\n",
       "                    --jp-ui-font-color1: white;\n",
       "                    --jp-layout-color2: #454545;\n",
       "                    background-color: #383838;\n",
       "                }\n",
       "\n",
       "                .geemap-dark .jupyter-button {\n",
       "                    --jp-layout-color3: #383838;\n",
       "                }\n",
       "\n",
       "                .geemap-colab {\n",
       "                    background-color: var(--colab-primary-surface-color, white);\n",
       "                }\n",
       "\n",
       "                .geemap-colab .jupyter-button {\n",
       "                    --jp-layout-color3: var(--colab-primary-surface-color, white);\n",
       "                }\n",
       "            </style>\n",
       "            "
      ],
      "text/plain": [
       "<IPython.core.display.HTML object>"
      ]
     },
     "metadata": {},
     "output_type": "display_data"
    },
    {
     "name": "stdout",
     "output_type": "stream",
     "text": [
      "EPSG:4326\n"
     ]
    }
   ],
   "source": [
    "# Path to GeoPackage\n",
    "jerico=m_root+r\"/jerico.gpkg\"\n",
    "\n",
    "\n",
    "# Read the shapefile containing the extent of the study area\n",
    "gdf_aoi = gpd.read_file(jerico)\n",
    "gdf_aoi = gdf_aoi.to_crs(\"EPSG:4326\")  # Ensure the CRS is WGS84\n",
    "print(gdf_aoi.crs)\n",
    "\n",
    "#--- Convert the AOI geometry to Earth Engine format ---\n",
    "\n",
    "aoi_geom = gdf_aoi.geometry[0].simplify(0.001)                    # Extract the polygon geometry\n",
    "aoi_coords = aoi_geom.__geo_interface__       # Convert to GeoJSON format\n",
    "aoi_ee = ee.Geometry(aoi_coords)              # Convert to Earth Engine Geometry\n",
    "\n",
    "# --  Load the DEM and clip it to the AOI ---\n",
    "\n",
    "# Use the SRTM DEM (30m resolution) provided by the USGS\n",
    "dem = ee.Image(\"USGS/SRTMGL1_003\")\n",
    "\n",
    "# Clip the DEM to the area of interest\n",
    "dem_clipped = dem.clip(aoi_ee)"
   ]
  },
  {
   "cell_type": "markdown",
   "id": "dd1a06db",
   "metadata": {},
   "source": [
    "Map"
   ]
  },
  {
   "cell_type": "code",
   "execution_count": 18,
   "id": "671b0474",
   "metadata": {},
   "outputs": [
    {
     "data": {
      "text/html": [
       "\n",
       "            <style>\n",
       "                .geemap-dark {\n",
       "                    --jp-widgets-color: white;\n",
       "                    --jp-widgets-label-color: white;\n",
       "                    --jp-ui-font-color1: white;\n",
       "                    --jp-layout-color2: #454545;\n",
       "                    background-color: #383838;\n",
       "                }\n",
       "\n",
       "                .geemap-dark .jupyter-button {\n",
       "                    --jp-layout-color3: #383838;\n",
       "                }\n",
       "\n",
       "                .geemap-colab {\n",
       "                    background-color: var(--colab-primary-surface-color, white);\n",
       "                }\n",
       "\n",
       "                .geemap-colab .jupyter-button {\n",
       "                    --jp-layout-color3: var(--colab-primary-surface-color, white);\n",
       "                }\n",
       "            </style>\n",
       "            "
      ],
      "text/plain": [
       "<IPython.core.display.HTML object>"
      ]
     },
     "metadata": {},
     "output_type": "display_data"
    },
    {
     "data": {
      "application/vnd.jupyter.widget-view+json": {
       "model_id": "2cb491fb7904432fa40396af3f80f752",
       "version_major": 2,
       "version_minor": 0
      },
      "text/plain": [
       "Map(center=[5.769830849334889, -75.76488244420928], controls=(WidgetControl(options=['position', 'transparent_…"
      ]
     },
     "metadata": {},
     "output_type": "display_data"
    }
   ],
   "source": [
    "# Create an interactive map centred on the centroid of the AOI\n",
    "Map = geemap.Map(center=[aoi_geom.centroid.y, aoi_geom.centroid.x], zoom=10)\n",
    "\n",
    "# Add the clipped DEM to the map with a custom colour palette\n",
    "# Lower elevations are shown in red, and higher elevations in green\n",
    "Map.addLayer(\n",
    "    dem_clipped,\n",
    "    {\n",
    "        'min': 200,  # Minimum elevation for visualisation\n",
    "        'max': 1000,  # Maximum elevation for visualisation\n",
    "        'palette': ['red', 'orange', 'yellow', 'lightgreen', 'green']  # Colour scale\n",
    "    },\n",
    "    'SRTM DEM clipped'  # Layer name\n",
    ")\n",
    "\n",
    "# Display the map\n",
    "Map"
   ]
  },
  {
   "cell_type": "markdown",
   "id": "32969d82",
   "metadata": {},
   "source": [
    "## 5. Export the clipped DEM to a file on your local computer  \n",
    "\n",
    "Once the SRTM DEM has been clipped to your area of interest and visually inspected, it can be exported to your local machine as a GeoTIFF file.  \n",
    "\n",
    "The export function below uses the geemap.ee_export_image() utility, which handles the download of Earth Engine images.  \n",
    "\n",
    "After running the cell, check your working directory for the output file."
   ]
  },
  {
   "cell_type": "code",
   "execution_count": 19,
   "id": "b78d18b2",
   "metadata": {},
   "outputs": [
    {
     "data": {
      "text/html": [
       "\n",
       "            <style>\n",
       "                .geemap-dark {\n",
       "                    --jp-widgets-color: white;\n",
       "                    --jp-widgets-label-color: white;\n",
       "                    --jp-ui-font-color1: white;\n",
       "                    --jp-layout-color2: #454545;\n",
       "                    background-color: #383838;\n",
       "                }\n",
       "\n",
       "                .geemap-dark .jupyter-button {\n",
       "                    --jp-layout-color3: #383838;\n",
       "                }\n",
       "\n",
       "                .geemap-colab {\n",
       "                    background-color: var(--colab-primary-surface-color, white);\n",
       "                }\n",
       "\n",
       "                .geemap-colab .jupyter-button {\n",
       "                    --jp-layout-color3: var(--colab-primary-surface-color, white);\n",
       "                }\n",
       "            </style>\n",
       "            "
      ],
      "text/plain": [
       "<IPython.core.display.HTML object>"
      ]
     },
     "metadata": {},
     "output_type": "display_data"
    },
    {
     "name": "stdout",
     "output_type": "stream",
     "text": [
      "Generating URL ...\n",
      "Downloading data from https://earthengine.googleapis.com/v1/projects/574779609979/thumbnails/3e37177b7eb74b8a167d8f437c21870d-15f9b6e3d422dcebedf1c07bd2490d72:getPixels\n",
      "Please wait ...\n",
      "Data downloaded to C:\\Users\\VICTUS\\Documents\\MG(2)\\programacion_sig\\notebook\\Workshop\\PS\\data\\dem_aoi.tif\n",
      " Export complete  C:/Users/VICTUS/Documents/MG(2)/programacion_sig/notebook/Workshop/PS/data/dem_aoi.tif\n"
     ]
    }
   ],
   "source": [
    "# Export settings:\n",
    "# - scale: 30 metres\n",
    "# - region: defined by AOI\n",
    "# - file_per_band=False: saves as a single-band GeoTIFF file\n",
    "\n",
    "geemap.ee_export_image(\n",
    "    dem_clipped,\n",
    "    filename=dem_path,\n",
    "    scale=30,\n",
    "    region=aoi_ee,\n",
    "    file_per_band=False\n",
    ")\n",
    "\n",
    "print(\" Export complete \", dem_path)"
   ]
  }
 ],
 "metadata": {
  "kernelspec": {
   "display_name": "base",
   "language": "python",
   "name": "python3"
  },
  "language_info": {
   "codemirror_mode": {
    "name": "ipython",
    "version": 3
   },
   "file_extension": ".py",
   "mimetype": "text/x-python",
   "name": "python",
   "nbconvert_exporter": "python",
   "pygments_lexer": "ipython3",
   "version": "3.12.3"
  }
 },
 "nbformat": 4,
 "nbformat_minor": 5
}
