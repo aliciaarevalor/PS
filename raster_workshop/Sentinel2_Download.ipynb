{
 "cells": [
  {
   "cell_type": "markdown",
   "id": "fc9da6f2",
   "metadata": {},
   "source": [
    "# Sentinel-2 Harmonized Image Download from Google Earth Engine"
   ]
  },
  {
   "cell_type": "markdown",
   "id": "2c31b695",
   "metadata": {},
   "source": [
    "## 1. Setting the scene  \n",
    "\n",
    "### 1.1. Import required libraries"
   ]
  },
  {
   "cell_type": "code",
   "execution_count": 1,
   "id": "572a7c06",
   "metadata": {},
   "outputs": [],
   "source": [
    "import ee\n",
    "import geemap\n",
    "import geopandas as gpd"
   ]
  },
  {
   "cell_type": "markdown",
   "id": "e0b3d182",
   "metadata": {},
   "source": [
    "### 1.2.Define paths to datasets"
   ]
  },
  {
   "cell_type": "code",
   "execution_count": 2,
   "id": "8c150803",
   "metadata": {},
   "outputs": [
    {
     "data": {
      "text/html": [
       "\n",
       "            <style>\n",
       "                .geemap-dark {\n",
       "                    --jp-widgets-color: white;\n",
       "                    --jp-widgets-label-color: white;\n",
       "                    --jp-ui-font-color1: white;\n",
       "                    --jp-layout-color2: #454545;\n",
       "                    background-color: #383838;\n",
       "                }\n",
       "\n",
       "                .geemap-dark .jupyter-button {\n",
       "                    --jp-layout-color3: #383838;\n",
       "                }\n",
       "\n",
       "                .geemap-colab {\n",
       "                    background-color: var(--colab-primary-surface-color, white);\n",
       "                }\n",
       "\n",
       "                .geemap-colab .jupyter-button {\n",
       "                    --jp-layout-color3: var(--colab-primary-surface-color, white);\n",
       "                }\n",
       "            </style>\n",
       "            "
      ],
      "text/plain": [
       "<IPython.core.display.HTML object>"
      ]
     },
     "metadata": {},
     "output_type": "display_data"
    }
   ],
   "source": [
    "m_root=r\"C:/Users/VICTUS/Documents/MG(2)/programacion_sig/notebook/Workshop/PS/data\"\n",
    "aoi=m_root+r\"/jerico.gpkg\" # Path to the vector file that contains the AOI"
   ]
  },
  {
   "cell_type": "markdown",
   "id": "9a811a1d",
   "metadata": {},
   "source": [
    "### 1.3. Authenticate and Initialise Earth Engine"
   ]
  },
  {
   "cell_type": "code",
   "execution_count": 3,
   "id": "97802528",
   "metadata": {},
   "outputs": [
    {
     "data": {
      "text/html": [
       "\n",
       "            <style>\n",
       "                .geemap-dark {\n",
       "                    --jp-widgets-color: white;\n",
       "                    --jp-widgets-label-color: white;\n",
       "                    --jp-ui-font-color1: white;\n",
       "                    --jp-layout-color2: #454545;\n",
       "                    background-color: #383838;\n",
       "                }\n",
       "\n",
       "                .geemap-dark .jupyter-button {\n",
       "                    --jp-layout-color3: #383838;\n",
       "                }\n",
       "\n",
       "                .geemap-colab {\n",
       "                    background-color: var(--colab-primary-surface-color, white);\n",
       "                }\n",
       "\n",
       "                .geemap-colab .jupyter-button {\n",
       "                    --jp-layout-color3: var(--colab-primary-surface-color, white);\n",
       "                }\n",
       "            </style>\n",
       "            "
      ],
      "text/plain": [
       "<IPython.core.display.HTML object>"
      ]
     },
     "metadata": {},
     "output_type": "display_data"
    }
   ],
   "source": [
    "# Attempt to initialise the Earth Engine API\n",
    "try:\n",
    "    ee.Initialize()\n",
    "\n",
    "    # If initialisation fails (likely because the user is not yet authenticated), prompt the user to log in using their Google account\n",
    "except Exception as e:\n",
    "    # If Earth Engine is not yet authenticated, prompt the user to sign in via a browser\n",
    "    # This step ensures proper authorisation using a Google account\n",
    "    ee.Authenticate()\n",
    "    \n",
    "    # Re-initialise Earth Engine after successful authentication\n",
    "    ee.Initialize()"
   ]
  },
  {
   "cell_type": "markdown",
   "id": "916ca333",
   "metadata": {},
   "source": [
    "### 1.4. Read the Area of Interest   \n",
    "\n",
    "Load a vector file containing the Area of Interest (AOI) using `geopandas`, and then converts the geometry from the Geopackage into an Earth Engine geometry object. This is necessary because Earth Engine requires its own geometry format for spatial operations."
   ]
  },
  {
   "cell_type": "code",
   "execution_count": 4,
   "id": "d2b7f09b",
   "metadata": {},
   "outputs": [
    {
     "data": {
      "text/html": [
       "\n",
       "            <style>\n",
       "                .geemap-dark {\n",
       "                    --jp-widgets-color: white;\n",
       "                    --jp-widgets-label-color: white;\n",
       "                    --jp-ui-font-color1: white;\n",
       "                    --jp-layout-color2: #454545;\n",
       "                    background-color: #383838;\n",
       "                }\n",
       "\n",
       "                .geemap-dark .jupyter-button {\n",
       "                    --jp-layout-color3: #383838;\n",
       "                }\n",
       "\n",
       "                .geemap-colab {\n",
       "                    background-color: var(--colab-primary-surface-color, white);\n",
       "                }\n",
       "\n",
       "                .geemap-colab .jupyter-button {\n",
       "                    --jp-layout-color3: var(--colab-primary-surface-color, white);\n",
       "                }\n",
       "            </style>\n",
       "            "
      ],
      "text/plain": [
       "<IPython.core.display.HTML object>"
      ]
     },
     "metadata": {},
     "output_type": "display_data"
    }
   ],
   "source": [
    "# Read shapefile with geopandas\n",
    "gdf_aoi = gpd.read_file(aoi)\n",
    "gdf_aoi = gdf_aoi.to_crs(\"EPSG:4326\")  # Ensure the CRS is WGS84\n",
    "# Convert to Earth Engine geometry\n",
    "aoi_geom = gdf_aoi.geometry[0].__geo_interface__\n",
    "aoi_ee = ee.Geometry(aoi_geom)"
   ]
  },
  {
   "cell_type": "markdown",
   "id": "5a581ac0",
   "metadata": {},
   "source": [
    "## 2. Filter Sentinel-2 Harmonized Imagery"
   ]
  },
  {
   "cell_type": "markdown",
   "id": "a3572e8c",
   "metadata": {},
   "source": [
    "We will now search for Sentinel-2 Surface Reflectance (Level 2) imagery using the COPERNICUS/S2_SR_HARMONIZED collection:  \n",
    "\n",
    "- Filter by date   \n",
    "- Filter by cloud coverage  \n",
    "- Filter by location (AOI) You can read more about this collection and explore its metadata, bands, and usage guidance here:\n",
    "COPERNICUS/S2_SR_HARMONIZED – Earth Engine Data Catalog"
   ]
  },
  {
   "cell_type": "code",
   "execution_count": 5,
   "id": "081b7009",
   "metadata": {},
   "outputs": [
    {
     "data": {
      "text/html": [
       "\n",
       "            <style>\n",
       "                .geemap-dark {\n",
       "                    --jp-widgets-color: white;\n",
       "                    --jp-widgets-label-color: white;\n",
       "                    --jp-ui-font-color1: white;\n",
       "                    --jp-layout-color2: #454545;\n",
       "                    background-color: #383838;\n",
       "                }\n",
       "\n",
       "                .geemap-dark .jupyter-button {\n",
       "                    --jp-layout-color3: #383838;\n",
       "                }\n",
       "\n",
       "                .geemap-colab {\n",
       "                    background-color: var(--colab-primary-surface-color, white);\n",
       "                }\n",
       "\n",
       "                .geemap-colab .jupyter-button {\n",
       "                    --jp-layout-color3: var(--colab-primary-surface-color, white);\n",
       "                }\n",
       "            </style>\n",
       "            "
      ],
      "text/plain": [
       "<IPython.core.display.HTML object>"
      ]
     },
     "metadata": {},
     "output_type": "display_data"
    }
   ],
   "source": [
    "# Define the temporal range for image selection\n",
    "start_date = '2022-01-01'  # Start of the desired date range\n",
    "end_date = '2022-12-31'    # End of the desired date range\n",
    "\n",
    "# Load the Sentinel-2 Harmonised Surface Reflectance image collection\n",
    "# and apply filters to narrow down the search\n",
    "collection = (\n",
    "    ee.ImageCollection(\"COPERNICUS/S2_SR_HARMONIZED\")\n",
    "    .filterDate(start_date, end_date)              # Filter images by date\n",
    "    .filterBounds(aoi_ee)                          # Filter images by location (our AOI)\n",
    "    .filter(ee.Filter.lt('CLOUDY_PIXEL_PERCENTAGE', 20))  # Keep only images with <10% cloud cover\n",
    ")\n",
    "\n",
    "# Generate a median composite image from the filtered collection\n",
    "# This reduces noise and cloud effects by taking the median value per pixel\n",
    "composite = collection.median().clip(aoi_ee)  # Clip to the AOI to minimise processing size"
   ]
  },
  {
   "cell_type": "markdown",
   "id": "193c6beb",
   "metadata": {},
   "source": [
    "## 3. Visualise the Image composite"
   ]
  },
  {
   "cell_type": "markdown",
   "id": "ab24ffe1",
   "metadata": {},
   "source": [
    "Before exporting the processed image, it’s good practice to preview the result and ensure it covers the expected area, with adequate quality.  \n",
    "\n",
    "Use geemap to create an interactive map and overlay the Sentinel-2 RGB composite (bands B4, B3, B2)."
   ]
  },
  {
   "cell_type": "code",
   "execution_count": 6,
   "id": "f11aaeac",
   "metadata": {},
   "outputs": [
    {
     "data": {
      "text/html": [
       "\n",
       "            <style>\n",
       "                .geemap-dark {\n",
       "                    --jp-widgets-color: white;\n",
       "                    --jp-widgets-label-color: white;\n",
       "                    --jp-ui-font-color1: white;\n",
       "                    --jp-layout-color2: #454545;\n",
       "                    background-color: #383838;\n",
       "                }\n",
       "\n",
       "                .geemap-dark .jupyter-button {\n",
       "                    --jp-layout-color3: #383838;\n",
       "                }\n",
       "\n",
       "                .geemap-colab {\n",
       "                    background-color: var(--colab-primary-surface-color, white);\n",
       "                }\n",
       "\n",
       "                .geemap-colab .jupyter-button {\n",
       "                    --jp-layout-color3: var(--colab-primary-surface-color, white);\n",
       "                }\n",
       "            </style>\n",
       "            "
      ],
      "text/plain": [
       "<IPython.core.display.HTML object>"
      ]
     },
     "metadata": {},
     "output_type": "display_data"
    },
    {
     "data": {
      "application/vnd.jupyter.widget-view+json": {
       "model_id": "cf408020d73949a0a9733c103109876f",
       "version_major": 2,
       "version_minor": 0
      },
      "text/plain": [
       "Map(center=[5.769820536039182, -75.7648825557432], controls=(WidgetControl(options=['position', 'transparent_b…"
      ]
     },
     "metadata": {},
     "output_type": "display_data"
    }
   ],
   "source": [
    "# Create an interactive map centred on the AOI (Area of Interest)\n",
    "\n",
    "# We use geemap.Map(), which is based on ipyleaflet, to build an interactive map\n",
    "# The 'center' parameter takes [latitude, longitude] as input\n",
    "\n",
    "# To calculate the centre of the AOI:\n",
    "# - gdf_aoi.geometry[0] accesses the first (and in our case, only) geometry in the GeoDataFrame\n",
    "# - .centroid returns the centre point (as a shapely Point object) of the polygon\n",
    "# - .y and .x extract the latitude and longitude coordinates of the centroid respectively\n",
    "\n",
    "Map = geemap.Map(\n",
    "    center=[gdf_aoi.geometry[0].centroid.y, gdf_aoi.geometry[0].centroid.x],  # [lat, lon]\n",
    "    zoom=13  # Set initial zoom level (adjust as needed)\n",
    ")\n",
    "# Add the composite to the map with RGB bands (B4 = red, B3 = green, B2 = blue)\n",
    "\n",
    "rgb_vis_params = {\n",
    "    'min': 100,    # Slight offset to reduce haze\n",
    "    'max': 2000,   # Higher max to improve contrast\n",
    "    'bands': ['B4', 'B3', 'B2']  # RGB bands\n",
    "}\n",
    "\n",
    "# Add the Sentinel-2 RGB composite to the map\n",
    "# - 'composite' is the image to be displayed\n",
    "# - 'rgb_vis_params' defines which bands to use (B4 = red, B3 = green, B2 = blue) and sets the brightness/contrast range using 'min' and 'max'\n",
    "# - The third argument is the label that appears in the map layer control\n",
    "Map.addLayer(composite, rgb_vis_params, \"Sentinel-2 RGB Composite (Brightened)\")\n",
    "\n",
    "# Add the Area of Interest (AOI) boundary to the map as a vector overlay\n",
    "Map.addLayer(aoi_ee, {}, \"AOI Boundary\")\n",
    "\n",
    "# Enable map layer controls (checkboxes and layer ordering)\n",
    "Map.addLayerControl()\n",
    "\n",
    "# Display the map\n",
    "Map"
   ]
  },
  {
   "cell_type": "markdown",
   "id": "146a64cf",
   "metadata": {},
   "source": [
    "### 3.1. Explore the names of all bands in the composite image"
   ]
  },
  {
   "cell_type": "markdown",
   "id": "ee96e7e6",
   "metadata": {},
   "source": [
    "The Sentinel-2 composite image contains multiple spectral bands, each capturing reflectance in a different portion of the electromagnetic spectrum. Before creating custom visualisations, it's important to know which spectral bands are present in the image as well as the min and max values of each of them.  \n",
    "\n",
    "The followng lines:  \n",
    "\n",
    "- List the available band names in the composite.  \n",
    "- Calculate the minimum and maximum reflectance values** for each band over the area of interest (AOI).  \n",
    "\n",
    "These statistics are useful when setting min and max values for visualisation. Because each band can have a different reflectance range, using the same visualisation parameters across all bands might lead to overly dark or saturated images."
   ]
  },
  {
   "cell_type": "code",
   "execution_count": 7,
   "id": "fd35adce",
   "metadata": {},
   "outputs": [
    {
     "data": {
      "text/html": [
       "\n",
       "            <style>\n",
       "                .geemap-dark {\n",
       "                    --jp-widgets-color: white;\n",
       "                    --jp-widgets-label-color: white;\n",
       "                    --jp-ui-font-color1: white;\n",
       "                    --jp-layout-color2: #454545;\n",
       "                    background-color: #383838;\n",
       "                }\n",
       "\n",
       "                .geemap-dark .jupyter-button {\n",
       "                    --jp-layout-color3: #383838;\n",
       "                }\n",
       "\n",
       "                .geemap-colab {\n",
       "                    background-color: var(--colab-primary-surface-color, white);\n",
       "                }\n",
       "\n",
       "                .geemap-colab .jupyter-button {\n",
       "                    --jp-layout-color3: var(--colab-primary-surface-color, white);\n",
       "                }\n",
       "            </style>\n",
       "            "
      ],
      "text/plain": [
       "<IPython.core.display.HTML object>"
      ]
     },
     "metadata": {},
     "output_type": "display_data"
    },
    {
     "name": "stdout",
     "output_type": "stream",
     "text": [
      "Available bands in the Sentinel-2 composite:\n",
      "['B1', 'B2', 'B3', 'B4', 'B5', 'B6', 'B7', 'B8', 'B8A', 'B9', 'B11', 'B12', 'AOT', 'WVP', 'SCL', 'TCI_R', 'TCI_G', 'TCI_B', 'MSK_CLDPRB', 'MSK_SNWPRB', 'QA10', 'QA20', 'QA60', 'MSK_CLASSI_OPAQUE', 'MSK_CLASSI_CIRRUS', 'MSK_CLASSI_SNOW_ICE']\n",
      "\n",
      " Min and Max values per band:\n",
      "  B1: min = 30.00, max = 8624.00\n",
      "  B2: min = 0.00, max = 11328.00\n",
      "  B3: min = 0.00, max = 9064.00\n",
      "  B4: min = 2.00, max = 9544.00\n",
      "  B5: min = 51.00, max = 9524.00\n",
      "  B6: min = 20.00, max = 9545.00\n",
      "  B7: min = 79.00, max = 9488.00\n",
      "  B8: min = 106.00, max = 10448.00\n",
      "  B8A: min = 97.00, max = 9426.00\n",
      "  B9: min = 270.00, max = 15003.00\n",
      "  B11: min = 137.00, max = 8441.00\n",
      "  B12: min = 70.00, max = 7329.00\n",
      "  AOT: min = 75.00, max = 216.00\n",
      "  WVP: min = 139.00, max = 3981.00\n",
      "  SCL: min = 2.00, max = 10.00\n",
      "  TCI_R: min = 1.00, max = 255.00\n",
      "  TCI_G: min = 3.00, max = 255.00\n",
      "  TCI_B: min = 1.00, max = 255.00\n",
      "  MSK_CLDPRB: min = 0.00, max = 100.00\n",
      "  MSK_SNWPRB: min = 0.00, max = 0.00\n",
      "  QA10: min = 0.00, max = 0.00\n",
      "  QA20: min = 0.00, max = 0.00\n",
      "  QA60: min = 0.00, max = 0.00\n",
      "  MSK_CLASSI_OPAQUE: No data available in AOI\n",
      "  MSK_CLASSI_CIRRUS: No data available in AOI\n",
      "  MSK_CLASSI_SNOW_ICE: No data available in AOI\n"
     ]
    }
   ],
   "source": [
    "# Print the names of all bands available in the composite image\n",
    "band_names = composite.bandNames().getInfo()\n",
    "print(\"Available bands in the Sentinel-2 composite:\")\n",
    "print(band_names)\n",
    "\n",
    "# Display min and max values for each band\n",
    "print(\"\\n Min and Max values per band:\")\n",
    "\n",
    "# Loop through each band and print its value range (with safety check)\n",
    "for band in band_names:\n",
    "    band_img = composite.select(band)\n",
    "    stats = band_img.reduceRegion(\n",
    "        reducer=ee.Reducer.minMax(),\n",
    "        geometry=aoi_ee,\n",
    "        scale=10,\n",
    "        maxPixels=1e9\n",
    "    ).getInfo()\n",
    "    \n",
    "    min_val = stats.get(f\"{band}_min\")\n",
    "    max_val = stats.get(f\"{band}_max\")\n",
    "    \n",
    "    if min_val is not None and max_val is not None:\n",
    "        print(f\"  {band}: min = {min_val:.2f}, max = {max_val:.2f}\")\n",
    "    else:\n",
    "        print(f\"  {band}: No data available in AOI\")"
   ]
  },
  {
   "cell_type": "markdown",
   "id": "3490556e",
   "metadata": {},
   "source": [
    "### 3.2. Stretching Bands Individually for Enhanced Visualisation  \n",
    "\n",
    "So far, we have visualised our Sentinel-2 image using a single brightness/contrast stretch (min/max) applied uniformly to all bands.  \n",
    "\n",
    "However, each spectral band may have a different reflectance range. Applying a single stretch to all bands may result in an overly dark or overly bright image.  \n",
    "\n",
    "To enhance visual contrast, we can apply a custom stretch to each band individually. This involves:  \n",
    "\n",
    "- Selecting each band separately  \n",
    "- Applying a normalisation (e.g. from 0–3000 to 0–1) using .unitScale()    \n",
    "- Merging the bands back together for display.  \n",
    "\n",
    "Let’s apply custom visual scaling to the RGB bands (B4, B3, B2)."
   ]
  },
  {
   "cell_type": "code",
   "execution_count": 8,
   "id": "f60d8f85",
   "metadata": {},
   "outputs": [
    {
     "data": {
      "text/html": [
       "\n",
       "            <style>\n",
       "                .geemap-dark {\n",
       "                    --jp-widgets-color: white;\n",
       "                    --jp-widgets-label-color: white;\n",
       "                    --jp-ui-font-color1: white;\n",
       "                    --jp-layout-color2: #454545;\n",
       "                    background-color: #383838;\n",
       "                }\n",
       "\n",
       "                .geemap-dark .jupyter-button {\n",
       "                    --jp-layout-color3: #383838;\n",
       "                }\n",
       "\n",
       "                .geemap-colab {\n",
       "                    background-color: var(--colab-primary-surface-color, white);\n",
       "                }\n",
       "\n",
       "                .geemap-colab .jupyter-button {\n",
       "                    --jp-layout-color3: var(--colab-primary-surface-color, white);\n",
       "                }\n",
       "            </style>\n",
       "            "
      ],
      "text/plain": [
       "<IPython.core.display.HTML object>"
      ]
     },
     "metadata": {},
     "output_type": "display_data"
    },
    {
     "data": {
      "application/vnd.jupyter.widget-view+json": {
       "model_id": "3fd68ca9315b499dbbde66968adf6f45",
       "version_major": 2,
       "version_minor": 0
      },
      "text/plain": [
       "Map(center=[5.769820536039182, -75.7648825557432], controls=(WidgetControl(options=['position', 'transparent_b…"
      ]
     },
     "metadata": {},
     "output_type": "display_data"
    }
   ],
   "source": [
    "Map2 = geemap.Map(\n",
    "    center=[gdf_aoi.geometry[0].centroid.y, gdf_aoi.geometry[0].centroid.x],  # [lat, lon]\n",
    "    zoom=13  # Set initial zoom level (adjust as needed)\n",
    ")\n",
    "# Define custom min/max values for each RGB band\n",
    "# These values can be adjusted based on the actual reflectance range of each band\n",
    "stretch_params = {\n",
    "    'B4': {'min': 0, 'max': 3000},  # Red band\n",
    "    'B3': {'min': 0, 'max': 2500},  # Green band\n",
    "    'B2': {'min': 0, 'max': 2000}   # Blue band\n",
    "}\n",
    "\n",
    "# Apply per-band linear stretch using .unitScale(min, max), which rescales values to 0–1\n",
    "b4_scaled = composite.select('B4').unitScale(stretch_params['B4']['min'], stretch_params['B4']['max'])\n",
    "b3_scaled = composite.select('B3').unitScale(stretch_params['B3']['min'], stretch_params['B3']['max'])\n",
    "b2_scaled = composite.select('B2').unitScale(stretch_params['B2']['min'], stretch_params['B2']['max'])\n",
    "\n",
    "# Combine the stretched bands into a new composite image\n",
    "rgb_stretched = ee.Image.cat([b4_scaled, b3_scaled, b2_scaled])\n",
    "\n",
    "# Add the new composite to the interactive map\n",
    "Map2.addLayer(rgb_stretched, {'min': 0, 'max': 1, 'bands': ['B4', 'B3', 'B2']}, 'Stretched RGB (per band)')\n",
    "\n",
    "# Display the updated map\n",
    "Map2"
   ]
  },
  {
   "cell_type": "markdown",
   "id": "84c72838",
   "metadata": {},
   "source": [
    "### ✏️ Now it's your turn  \n",
    "\n",
    "You’ve just learnt how to enhance visualisation by applying a custom stretch per band. Now, let’s create a false colour composite using the following Sentinel-2 bands:  \n",
    "\n",
    "- B8 (Near Infrared)  \n",
    "- B4 (Red)  \n",
    "- B3 (Green)   \n",
    "\n",
    "False colour composites are useful for vegetation monitoring, as healthy vegetation reflects strongly in the NIR."
   ]
  },
  {
   "cell_type": "code",
   "execution_count": 9,
   "id": "afed2c14",
   "metadata": {},
   "outputs": [
    {
     "data": {
      "text/html": [
       "\n",
       "            <style>\n",
       "                .geemap-dark {\n",
       "                    --jp-widgets-color: white;\n",
       "                    --jp-widgets-label-color: white;\n",
       "                    --jp-ui-font-color1: white;\n",
       "                    --jp-layout-color2: #454545;\n",
       "                    background-color: #383838;\n",
       "                }\n",
       "\n",
       "                .geemap-dark .jupyter-button {\n",
       "                    --jp-layout-color3: #383838;\n",
       "                }\n",
       "\n",
       "                .geemap-colab {\n",
       "                    background-color: var(--colab-primary-surface-color, white);\n",
       "                }\n",
       "\n",
       "                .geemap-colab .jupyter-button {\n",
       "                    --jp-layout-color3: var(--colab-primary-surface-color, white);\n",
       "                }\n",
       "            </style>\n",
       "            "
      ],
      "text/plain": [
       "<IPython.core.display.HTML object>"
      ]
     },
     "metadata": {},
     "output_type": "display_data"
    },
    {
     "data": {
      "application/vnd.jupyter.widget-view+json": {
       "model_id": "f8f916de1a714700ac37227eb7775ada",
       "version_major": 2,
       "version_minor": 0
      },
      "text/plain": [
       "Map(center=[5.769820536039182, -75.7648825557432], controls=(WidgetControl(options=['position', 'transparent_b…"
      ]
     },
     "metadata": {},
     "output_type": "display_data"
    }
   ],
   "source": [
    "Map2 = geemap.Map(\n",
    "    center=[gdf_aoi.geometry[0].centroid.y, gdf_aoi.geometry[0].centroid.x],  # [lat, lon]\n",
    "    zoom=13  # Set initial zoom level (adjust as needed)\n",
    ")\n",
    "# Define custom min/max values for each RGB band\n",
    "# These values can be adjusted based on the actual reflectance range of each band\n",
    "stretch_params = {\n",
    "    'B8': {'min': 0, 'max': 3000},  # Near infrared band\n",
    "    'B4': {'min': 0, 'max': 3000},  # Red band\n",
    "    'B3': {'min': 0, 'max': 2500}   # Green band\n",
    "}\n",
    "\n",
    "# Apply per-band linear stretch using .unitScale(min, max), which rescales values to 0–1\n",
    "b4_scaled = composite.select('B8').unitScale(stretch_params['B8']['min'], stretch_params['B8']['max'])\n",
    "b3_scaled = composite.select('B4').unitScale(stretch_params['B4']['min'], stretch_params['B4']['max'])\n",
    "b2_scaled = composite.select('B3').unitScale(stretch_params['B3']['min'], stretch_params['B3']['max'])\n",
    "\n",
    "# Combine the stretched bands into a new composite image\n",
    "rgb_stretched = ee.Image.cat([b4_scaled, b3_scaled, b2_scaled])\n",
    "\n",
    "# Add the new composite to the interactive map\n",
    "Map2.addLayer(rgb_stretched, {'min': 0, 'max': 1, 'bands': ['B8', 'B4', 'B3']}, 'Stretched False colour (per band)')\n",
    "\n",
    "# Display the updated map\n",
    "Map2"
   ]
  },
  {
   "cell_type": "markdown",
   "id": "bccb395a",
   "metadata": {},
   "source": [
    "## 4. Exporting the Composite Image to Google Drive  \n",
    "\n",
    "Once the image has been processed and reviewed, we can export it to Google Drive, which is suitable for saving large images.  \n",
    "\n",
    "Exporting to Google Drive is recommended for high-resolution or large-area composites, as it avoids memory limitations commonly encountered when downloading to the local environment.  \n",
    "\n",
    "The following code sends the composite image (clipped to the AOI) as a GeoTIFF file to your Google Drive. You will find it in a folder called earthengine by default, unless otherwise specified."
   ]
  },
  {
   "cell_type": "code",
   "execution_count": 10,
   "id": "cd82ea0e",
   "metadata": {},
   "outputs": [
    {
     "data": {
      "text/html": [
       "\n",
       "            <style>\n",
       "                .geemap-dark {\n",
       "                    --jp-widgets-color: white;\n",
       "                    --jp-widgets-label-color: white;\n",
       "                    --jp-ui-font-color1: white;\n",
       "                    --jp-layout-color2: #454545;\n",
       "                    background-color: #383838;\n",
       "                }\n",
       "\n",
       "                .geemap-dark .jupyter-button {\n",
       "                    --jp-layout-color3: #383838;\n",
       "                }\n",
       "\n",
       "                .geemap-colab {\n",
       "                    background-color: var(--colab-primary-surface-color, white);\n",
       "                }\n",
       "\n",
       "                .geemap-colab .jupyter-button {\n",
       "                    --jp-layout-color3: var(--colab-primary-surface-color, white);\n",
       "                }\n",
       "            </style>\n",
       "            "
      ],
      "text/plain": [
       "<IPython.core.display.HTML object>"
      ]
     },
     "metadata": {},
     "output_type": "display_data"
    },
    {
     "name": "stdout",
     "output_type": "stream",
     "text": [
      "Export task started. Monitor progress in the Earth Engine Tasks tab.\n"
     ]
    }
   ],
   "source": [
    "# Export the composite image to Google Drive\n",
    "task = ee.batch.Export.image.toDrive(\n",
    "    image=composite,\n",
    "    description='Sentinel2_Composite_Export',\n",
    "    folder='earthengine',            # Destination folder in Google Drive\n",
    "    fileNamePrefix='sentinel2_rgb', # File name without extension\n",
    "    region=aoi_ee,                   # Area to export\n",
    "    scale=10,                        # Set a very high limit to allow exporting large images\n",
    "                                     # Earth Engine requires this to avoid exporting by mistake very large rasters\n",
    "                                     # The default limit is 1e8 (100 million pixels), so we override it here\n",
    "\n",
    "    maxPixels=1e13,                  # Allow large exports\n",
    "    fileFormat='GeoTIFF'\n",
    ")\n",
    "\n",
    "# Start the export task\n",
    "task.start()\n",
    "\n",
    "print(\"Export task started. Monitor progress in the Earth Engine Tasks tab.\")"
   ]
  },
  {
   "cell_type": "markdown",
   "id": "ac74ea95",
   "metadata": {},
   "source": [
    "### ✏️ Now it's your turn: Work with a Landsat Collection and Download a False Colour Image  \n",
    "\n",
    "Let’s now apply what you've learned to a new satellite image collection: Landsat.  \n",
    "\n",
    "1. Search and choose a Landsat image collection available in Earth Engine.  \n",
    "\n",
    "2. Inspect the available bands in the collection and identify:  \n",
    "\n",
    "- Near Infrared (NIR)  \n",
    "- Red  \n",
    "- Green  \n",
    "\n",
    "3. Load a filtered image collection** using:\n",
    "\n",
    "- A relevant date range  \n",
    "- Your existing Area of Interest  \n",
    "- An appropriate cloud cover filter  \n",
    "\n",
    "4. Generate a composite using a different function to median().  \n",
    "\n",
    "5. Visualise the image on the map using a false colour RGB combination (e.g. NIR-Red-Green).  \n",
    "\n",
    "6. Export the image to your computer (not Google Drive) in GeoTIFF format using geemap.ee_export_image() as you did with the SRTM.  \n",
    "\n",
    "Give it a try and see how Landsat compares to Sentinel-2!"
   ]
  },
  {
   "cell_type": "markdown",
   "id": "33de9131",
   "metadata": {},
   "source": []
  }
 ],
 "metadata": {
  "kernelspec": {
   "display_name": "base",
   "language": "python",
   "name": "python3"
  },
  "language_info": {
   "codemirror_mode": {
    "name": "ipython",
    "version": 3
   },
   "file_extension": ".py",
   "mimetype": "text/x-python",
   "name": "python",
   "nbconvert_exporter": "python",
   "pygments_lexer": "ipython3",
   "version": "3.12.3"
  }
 },
 "nbformat": 4,
 "nbformat_minor": 5
}
