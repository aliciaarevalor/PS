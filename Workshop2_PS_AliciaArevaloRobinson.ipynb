{
 "cells": [
  {
   "cell_type": "markdown",
   "id": "c5ade278",
   "metadata": {},
   "source": [
    "# Workshop 2: Spatial & Geometry Operations on Vector data"
   ]
  },
  {
   "cell_type": "markdown",
   "id": "774fa282",
   "metadata": {},
   "source": [
    "Programación SIG  2025-1S    \n",
    "Universidad Nacional de Colombia    \n",
    "Alicia Arévalo Robinson"
   ]
  },
  {
   "cell_type": "code",
   "execution_count": null,
   "id": "c9d05140",
   "metadata": {},
   "outputs": [],
   "source": []
  },
  {
   "cell_type": "code",
   "execution_count": null,
   "id": "4acb698e",
   "metadata": {},
   "outputs": [],
   "source": []
  }
 ],
 "metadata": {
  "language_info": {
   "name": "python"
  }
 },
 "nbformat": 4,
 "nbformat_minor": 5
}
